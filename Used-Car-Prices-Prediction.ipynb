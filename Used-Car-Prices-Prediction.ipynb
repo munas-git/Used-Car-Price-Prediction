{
 "cells": [
  {
   "cell_type": "markdown",
   "metadata": {},
   "source": [
    "## Project End Goal\n",
    "> Be able to predict the prices of various used cars"
   ]
  },
  {
   "cell_type": "markdown",
   "metadata": {},
   "source": [
    "## Importing Important Libraries"
   ]
  },
  {
   "cell_type": "code",
   "execution_count": 1,
   "metadata": {},
   "outputs": [
    {
     "name": "stderr",
     "output_type": "stream",
     "text": [
      "c:\\Users\\samsung\\AppData\\Local\\Programs\\Python\\Python310\\lib\\site-packages\\xgboost\\compat.py:36: FutureWarning: pandas.Int64Index is deprecated and will be removed from pandas in a future version. Use pandas.Index with the appropriate dtype instead.\n",
      "  from pandas import MultiIndex, Int64Index\n"
     ]
    }
   ],
   "source": [
    "import pandas as pd\n",
    "import matplotlib.pyplot as plt\n",
    "from sklearn.model_selection import train_test_split\n",
    "from sklearn.metrics import r2_score\n",
    "from sklearn.model_selection import RandomizedSearchCV\n",
    "from xgboost import XGBRegressor as xgbr\n",
    "import pickle\n",
    "\n",
    "import warnings\n",
    "warnings.filterwarnings('ignore')"
   ]
  },
  {
   "cell_type": "code",
   "execution_count": 2,
   "metadata": {},
   "outputs": [
    {
     "data": {
      "text/html": [
       "<div>\n",
       "<style scoped>\n",
       "    .dataframe tbody tr th:only-of-type {\n",
       "        vertical-align: middle;\n",
       "    }\n",
       "\n",
       "    .dataframe tbody tr th {\n",
       "        vertical-align: top;\n",
       "    }\n",
       "\n",
       "    .dataframe thead th {\n",
       "        text-align: right;\n",
       "    }\n",
       "</style>\n",
       "<table border=\"1\" class=\"dataframe\">\n",
       "  <thead>\n",
       "    <tr style=\"text-align: right;\">\n",
       "      <th></th>\n",
       "      <th>Price</th>\n",
       "      <th>Year</th>\n",
       "      <th>Mileage</th>\n",
       "      <th>City</th>\n",
       "      <th>State</th>\n",
       "      <th>Vin</th>\n",
       "      <th>Make</th>\n",
       "      <th>Model</th>\n",
       "    </tr>\n",
       "  </thead>\n",
       "  <tbody>\n",
       "    <tr>\n",
       "      <th>0</th>\n",
       "      <td>8995</td>\n",
       "      <td>2014</td>\n",
       "      <td>35725</td>\n",
       "      <td>El Paso</td>\n",
       "      <td>TX</td>\n",
       "      <td>19VDE2E53EE000083</td>\n",
       "      <td>Acura</td>\n",
       "      <td>ILX6-Speed</td>\n",
       "    </tr>\n",
       "    <tr>\n",
       "      <th>1</th>\n",
       "      <td>10888</td>\n",
       "      <td>2013</td>\n",
       "      <td>19606</td>\n",
       "      <td>Long Island City</td>\n",
       "      <td>NY</td>\n",
       "      <td>19VDE1F52DE012636</td>\n",
       "      <td>Acura</td>\n",
       "      <td>ILX5-Speed</td>\n",
       "    </tr>\n",
       "    <tr>\n",
       "      <th>2</th>\n",
       "      <td>8995</td>\n",
       "      <td>2013</td>\n",
       "      <td>48851</td>\n",
       "      <td>El Paso</td>\n",
       "      <td>TX</td>\n",
       "      <td>19VDE2E52DE000025</td>\n",
       "      <td>Acura</td>\n",
       "      <td>ILX6-Speed</td>\n",
       "    </tr>\n",
       "    <tr>\n",
       "      <th>3</th>\n",
       "      <td>10999</td>\n",
       "      <td>2014</td>\n",
       "      <td>39922</td>\n",
       "      <td>Windsor</td>\n",
       "      <td>CO</td>\n",
       "      <td>19VDE1F71EE003817</td>\n",
       "      <td>Acura</td>\n",
       "      <td>ILX5-Speed</td>\n",
       "    </tr>\n",
       "    <tr>\n",
       "      <th>4</th>\n",
       "      <td>14799</td>\n",
       "      <td>2016</td>\n",
       "      <td>22142</td>\n",
       "      <td>Lindon</td>\n",
       "      <td>UT</td>\n",
       "      <td>19UDE2F32GA001284</td>\n",
       "      <td>Acura</td>\n",
       "      <td>ILXAutomatic</td>\n",
       "    </tr>\n",
       "  </tbody>\n",
       "</table>\n",
       "</div>"
      ],
      "text/plain": [
       "   Price  Year  Mileage              City State                Vin   Make  \\\n",
       "0   8995  2014    35725           El Paso    TX  19VDE2E53EE000083  Acura   \n",
       "1  10888  2013    19606  Long Island City    NY  19VDE1F52DE012636  Acura   \n",
       "2   8995  2013    48851           El Paso    TX  19VDE2E52DE000025  Acura   \n",
       "3  10999  2014    39922           Windsor    CO  19VDE1F71EE003817  Acura   \n",
       "4  14799  2016    22142            Lindon    UT  19UDE2F32GA001284  Acura   \n",
       "\n",
       "          Model  \n",
       "0    ILX6-Speed  \n",
       "1    ILX5-Speed  \n",
       "2    ILX6-Speed  \n",
       "3    ILX5-Speed  \n",
       "4  ILXAutomatic  "
      ]
     },
     "execution_count": 2,
     "metadata": {},
     "output_type": "execute_result"
    }
   ],
   "source": [
    "data = pd.read_csv('true_car_listings.csv')\n",
    "data.head()"
   ]
  },
  {
   "cell_type": "markdown",
   "metadata": {},
   "source": [
    "## Exploratory Data Anslysis"
   ]
  },
  {
   "cell_type": "code",
   "execution_count": 3,
   "metadata": {},
   "outputs": [
    {
     "data": {
      "text/html": [
       "<div>\n",
       "<style scoped>\n",
       "    .dataframe tbody tr th:only-of-type {\n",
       "        vertical-align: middle;\n",
       "    }\n",
       "\n",
       "    .dataframe tbody tr th {\n",
       "        vertical-align: top;\n",
       "    }\n",
       "\n",
       "    .dataframe thead th {\n",
       "        text-align: right;\n",
       "    }\n",
       "</style>\n",
       "<table border=\"1\" class=\"dataframe\">\n",
       "  <thead>\n",
       "    <tr style=\"text-align: right;\">\n",
       "      <th></th>\n",
       "      <th>Price</th>\n",
       "      <th>Year</th>\n",
       "      <th>Mileage</th>\n",
       "      <th>City</th>\n",
       "      <th>State</th>\n",
       "      <th>Make</th>\n",
       "      <th>Model</th>\n",
       "    </tr>\n",
       "  </thead>\n",
       "  <tbody>\n",
       "    <tr>\n",
       "      <th>0</th>\n",
       "      <td>8995</td>\n",
       "      <td>2014</td>\n",
       "      <td>35725</td>\n",
       "      <td>El Paso</td>\n",
       "      <td>TX</td>\n",
       "      <td>Acura</td>\n",
       "      <td>ILX6-Speed</td>\n",
       "    </tr>\n",
       "    <tr>\n",
       "      <th>1</th>\n",
       "      <td>10888</td>\n",
       "      <td>2013</td>\n",
       "      <td>19606</td>\n",
       "      <td>Long Island City</td>\n",
       "      <td>NY</td>\n",
       "      <td>Acura</td>\n",
       "      <td>ILX5-Speed</td>\n",
       "    </tr>\n",
       "    <tr>\n",
       "      <th>2</th>\n",
       "      <td>8995</td>\n",
       "      <td>2013</td>\n",
       "      <td>48851</td>\n",
       "      <td>El Paso</td>\n",
       "      <td>TX</td>\n",
       "      <td>Acura</td>\n",
       "      <td>ILX6-Speed</td>\n",
       "    </tr>\n",
       "    <tr>\n",
       "      <th>3</th>\n",
       "      <td>10999</td>\n",
       "      <td>2014</td>\n",
       "      <td>39922</td>\n",
       "      <td>Windsor</td>\n",
       "      <td>CO</td>\n",
       "      <td>Acura</td>\n",
       "      <td>ILX5-Speed</td>\n",
       "    </tr>\n",
       "    <tr>\n",
       "      <th>4</th>\n",
       "      <td>14799</td>\n",
       "      <td>2016</td>\n",
       "      <td>22142</td>\n",
       "      <td>Lindon</td>\n",
       "      <td>UT</td>\n",
       "      <td>Acura</td>\n",
       "      <td>ILXAutomatic</td>\n",
       "    </tr>\n",
       "  </tbody>\n",
       "</table>\n",
       "</div>"
      ],
      "text/plain": [
       "   Price  Year  Mileage              City State   Make         Model\n",
       "0   8995  2014    35725           El Paso    TX  Acura    ILX6-Speed\n",
       "1  10888  2013    19606  Long Island City    NY  Acura    ILX5-Speed\n",
       "2   8995  2013    48851           El Paso    TX  Acura    ILX6-Speed\n",
       "3  10999  2014    39922           Windsor    CO  Acura    ILX5-Speed\n",
       "4  14799  2016    22142            Lindon    UT  Acura  ILXAutomatic"
      ]
     },
     "execution_count": 3,
     "metadata": {},
     "output_type": "execute_result"
    }
   ],
   "source": [
    "# dropping the VIN(Vehicle Identification Number) as vehicle unique ID \n",
    "# is not a factor to consider for price prediction as each vegicle has its unique VIN\n",
    "data = data.drop('Vin', axis= 1)\n",
    "data.head()"
   ]
  },
  {
   "cell_type": "code",
   "execution_count": 4,
   "metadata": {},
   "outputs": [
    {
     "data": {
      "text/plain": [
       "Price      0\n",
       "Year       0\n",
       "Mileage    0\n",
       "City       0\n",
       "State      0\n",
       "Make       0\n",
       "Model      0\n",
       "dtype: int64"
      ]
     },
     "execution_count": 4,
     "metadata": {},
     "output_type": "execute_result"
    }
   ],
   "source": [
    "data.isnull().sum()"
   ]
  },
  {
   "cell_type": "code",
   "execution_count": 5,
   "metadata": {},
   "outputs": [
    {
     "data": {
      "text/html": [
       "<div>\n",
       "<style scoped>\n",
       "    .dataframe tbody tr th:only-of-type {\n",
       "        vertical-align: middle;\n",
       "    }\n",
       "\n",
       "    .dataframe tbody tr th {\n",
       "        vertical-align: top;\n",
       "    }\n",
       "\n",
       "    .dataframe thead th {\n",
       "        text-align: right;\n",
       "    }\n",
       "</style>\n",
       "<table border=\"1\" class=\"dataframe\">\n",
       "  <thead>\n",
       "    <tr style=\"text-align: right;\">\n",
       "      <th></th>\n",
       "      <th>Price</th>\n",
       "      <th>Year</th>\n",
       "      <th>Mileage</th>\n",
       "    </tr>\n",
       "  </thead>\n",
       "  <tbody>\n",
       "    <tr>\n",
       "      <th>count</th>\n",
       "      <td>852122.0</td>\n",
       "      <td>852122.0</td>\n",
       "      <td>852122.0</td>\n",
       "    </tr>\n",
       "    <tr>\n",
       "      <th>mean</th>\n",
       "      <td>21464.0</td>\n",
       "      <td>2013.0</td>\n",
       "      <td>52508.0</td>\n",
       "    </tr>\n",
       "    <tr>\n",
       "      <th>std</th>\n",
       "      <td>13596.0</td>\n",
       "      <td>3.0</td>\n",
       "      <td>41989.0</td>\n",
       "    </tr>\n",
       "    <tr>\n",
       "      <th>min</th>\n",
       "      <td>1500.0</td>\n",
       "      <td>1997.0</td>\n",
       "      <td>5.0</td>\n",
       "    </tr>\n",
       "    <tr>\n",
       "      <th>25%</th>\n",
       "      <td>13000.0</td>\n",
       "      <td>2012.0</td>\n",
       "      <td>23836.0</td>\n",
       "    </tr>\n",
       "    <tr>\n",
       "      <th>50%</th>\n",
       "      <td>18500.0</td>\n",
       "      <td>2014.0</td>\n",
       "      <td>40256.0</td>\n",
       "    </tr>\n",
       "    <tr>\n",
       "      <th>75%</th>\n",
       "      <td>26995.0</td>\n",
       "      <td>2016.0</td>\n",
       "      <td>72186.0</td>\n",
       "    </tr>\n",
       "    <tr>\n",
       "      <th>max</th>\n",
       "      <td>499500.0</td>\n",
       "      <td>2018.0</td>\n",
       "      <td>2856196.0</td>\n",
       "    </tr>\n",
       "  </tbody>\n",
       "</table>\n",
       "</div>"
      ],
      "text/plain": [
       "          Price      Year    Mileage\n",
       "count  852122.0  852122.0   852122.0\n",
       "mean    21464.0    2013.0    52508.0\n",
       "std     13596.0       3.0    41989.0\n",
       "min      1500.0    1997.0        5.0\n",
       "25%     13000.0    2012.0    23836.0\n",
       "50%     18500.0    2014.0    40256.0\n",
       "75%     26995.0    2016.0    72186.0\n",
       "max    499500.0    2018.0  2856196.0"
      ]
     },
     "execution_count": 5,
     "metadata": {},
     "output_type": "execute_result"
    }
   ],
   "source": [
    "data.describe().round()"
   ]
  },
  {
   "cell_type": "code",
   "execution_count": 6,
   "metadata": {},
   "outputs": [
    {
     "name": "stdout",
     "output_type": "stream",
     "text": [
      "<class 'pandas.core.frame.DataFrame'>\n",
      "RangeIndex: 852122 entries, 0 to 852121\n",
      "Data columns (total 7 columns):\n",
      " #   Column   Non-Null Count   Dtype \n",
      "---  ------   --------------   ----- \n",
      " 0   Price    852122 non-null  int64 \n",
      " 1   Year     852122 non-null  int64 \n",
      " 2   Mileage  852122 non-null  int64 \n",
      " 3   City     852122 non-null  object\n",
      " 4   State    852122 non-null  object\n",
      " 5   Make     852122 non-null  object\n",
      " 6   Model    852122 non-null  object\n",
      "dtypes: int64(3), object(4)\n",
      "memory usage: 45.5+ MB\n"
     ]
    }
   ],
   "source": [
    "data.info()"
   ]
  },
  {
   "cell_type": "code",
   "execution_count": 7,
   "metadata": {},
   "outputs": [
    {
     "data": {
      "text/html": [
       "<div>\n",
       "<style scoped>\n",
       "    .dataframe tbody tr th:only-of-type {\n",
       "        vertical-align: middle;\n",
       "    }\n",
       "\n",
       "    .dataframe tbody tr th {\n",
       "        vertical-align: top;\n",
       "    }\n",
       "\n",
       "    .dataframe thead th {\n",
       "        text-align: right;\n",
       "    }\n",
       "</style>\n",
       "<table border=\"1\" class=\"dataframe\">\n",
       "  <thead>\n",
       "    <tr style=\"text-align: right;\">\n",
       "      <th></th>\n",
       "      <th>Price</th>\n",
       "      <th>Year</th>\n",
       "      <th>Mileage</th>\n",
       "    </tr>\n",
       "  </thead>\n",
       "  <tbody>\n",
       "    <tr>\n",
       "      <th>Price</th>\n",
       "      <td>1.000000</td>\n",
       "      <td>0.519913</td>\n",
       "      <td>-0.546931</td>\n",
       "    </tr>\n",
       "    <tr>\n",
       "      <th>Year</th>\n",
       "      <td>0.519913</td>\n",
       "      <td>1.000000</td>\n",
       "      <td>-0.780905</td>\n",
       "    </tr>\n",
       "    <tr>\n",
       "      <th>Mileage</th>\n",
       "      <td>-0.546931</td>\n",
       "      <td>-0.780905</td>\n",
       "      <td>1.000000</td>\n",
       "    </tr>\n",
       "  </tbody>\n",
       "</table>\n",
       "</div>"
      ],
      "text/plain": [
       "            Price      Year   Mileage\n",
       "Price    1.000000  0.519913 -0.546931\n",
       "Year     0.519913  1.000000 -0.780905\n",
       "Mileage -0.546931 -0.780905  1.000000"
      ]
     },
     "execution_count": 7,
     "metadata": {},
     "output_type": "execute_result"
    }
   ],
   "source": [
    "data.corr('spearman')"
   ]
  },
  {
   "cell_type": "markdown",
   "metadata": {},
   "source": [
    "* from the correlation results above, year purchased and Mileage seem to have a good enough correlation with the price of the vehicle, I will go ahead to plot the effect of various attributes on price"
   ]
  },
  {
   "cell_type": "markdown",
   "metadata": {},
   "source": [
    "## Data Visualization"
   ]
  },
  {
   "cell_type": "code",
   "execution_count": 11,
   "metadata": {},
   "outputs": [
    {
     "data": {
      "image/png": "[encoded data removed]",
      "text/plain": [
       "<Figure size 936x1080 with 5 Axes>"
      ]
     },
     "metadata": {
      "needs_background": "light"
     },
     "output_type": "display_data"
    }
   ],
   "source": [
    "# Visualization \n",
    "# Calculating mean prices of cars grouped by year\n",
    "\n",
    "plt.figure(figsize =(13,15))\n",
    "year_price = data.groupby('Year')['Price'].mean().sort_values(ascending=True)\n",
    "plt.subplot(3,2,1)\n",
    "plt.bar(year_price.index, year_price.values)\n",
    "plt.title(\"Year/Average Price Bar Chart\", fontsize=15)\n",
    "plt.xlabel(\"Year Purchased\")\n",
    "plt.ylabel(\"Average Price\")\n",
    "\n",
    "# Calculating mean prices of cars grouped by the City\n",
    "city_price = data.groupby('City')['Price'].mean().sort_values(ascending=True)\n",
    "plt.subplot(3,2,2)\n",
    "plt.bar(city_price.index, city_price.values)\n",
    "plt.title(\"City/Average Price Bar Chart\", fontsize=15)\n",
    "plt.xlabel(\"City\")\n",
    "plt.ylabel(\"Average Price\")\n",
    "plt.xticks([''])\n",
    "plt.ylim([0,40000])\n",
    "\n",
    "# Calculating mean prices of cars grouped by the State\n",
    "state_price = data.groupby('State')['Price'].mean().sort_values(ascending=True)\n",
    "plt.subplot(3,2,3)\n",
    "plt.bar(state_price.index, state_price.values)\n",
    "plt.title(\"State/Average Price Bar Chart\", fontsize=15)\n",
    "plt.xlabel(\"State\")\n",
    "plt.ylabel(\"Average Price\")\n",
    "plt.xticks([''])\n",
    "\n",
    "# Calculating mean prices of cars grouped by the Make\n",
    "make_price = data.groupby('Make')['Price'].mean().sort_values(ascending=True)\n",
    "plt.subplot(3,2,4)\n",
    "plt.bar(make_price.index, make_price.values)\n",
    "plt.title(\"Make/Average Price Bar Chart\", fontsize=15)\n",
    "plt.xlabel(\"Make\")\n",
    "plt.ylabel(\"Average Price\")\n",
    "plt.xticks([''])\n",
    "\n",
    "# Calculating mean prices of cars grouped by the State\n",
    "model_price = data.groupby('Model')['Price'].mean().sort_values(ascending=True)\n",
    "plt.subplot(3,2,5)\n",
    "plt.bar(model_price.index, model_price.values)\n",
    "plt.title(\"Model/Average Price Bar Chart\", fontsize=15)\n",
    "plt.xlabel(\"Model\")\n",
    "plt.ylabel(\"Average Price\")\n",
    "plt.xticks([''])\n",
    "\n",
    "plt.show()"
   ]
  },
  {
   "cell_type": "code",
   "execution_count": 8,
   "metadata": {},
   "outputs": [],
   "source": [
    "data_freq_enc = data.copy(deep=True)"
   ]
  },
  {
   "cell_type": "markdown",
   "metadata": {},
   "source": [
    "#### Converting all nominal data types into integer with the frequency enocding method "
   ]
  },
  {
   "cell_type": "code",
   "execution_count": 9,
   "metadata": {},
   "outputs": [],
   "source": [
    "# Calculatig frequency of all nominal categorial features.\n",
    "\n",
    "city_freq = data_freq_enc.groupby('City').size()/len(data.City)\n",
    "state_freq = data_freq_enc.groupby('State').size()/len(data.State)\n",
    "make_freq = data_freq_enc.groupby('Make').size()/len(data.Make)\n",
    "model_freq = data_freq_enc.groupby('Model').size()/len(data.Model)\n",
    "\n",
    "# mapping columns to dataframe\n",
    "data_freq_enc['City'] = data_freq_enc['City'].map(city_freq)\n",
    "data_freq_enc['State'] = data_freq_enc['State'].map(state_freq)\n",
    "data_freq_enc['Make'] = data_freq_enc['Make'].map(make_freq)\n",
    "data_freq_enc['Model'] = data_freq_enc['Model'].map(model_freq)"
   ]
  },
  {
   "cell_type": "code",
   "execution_count": 11,
   "metadata": {},
   "outputs": [
    {
     "name": "stdout",
     "output_type": "stream",
     "text": [
      "AM\n",
      "Acura\n",
      "Alfa\n",
      "Aston\n",
      "Audi\n",
      "BMW\n",
      "Bentley\n",
      "Buick\n",
      "Cadillac\n",
      "Chevrolet\n",
      "Chrysler\n",
      "Dodge\n",
      "FIAT\n",
      "Ferrari\n",
      "Fisker\n",
      "Ford\n",
      "Freightliner\n",
      "GMC\n",
      "Genesis\n",
      "Geo\n",
      "HUMMER\n",
      "Honda\n",
      "Hyundai\n",
      "INFINITI\n",
      "Isuzu\n",
      "Jaguar\n",
      "Jeep\n",
      "Kia\n",
      "Lamborghini\n",
      "Land\n",
      "Lexus\n",
      "Lincoln\n",
      "Lotus\n",
      "MINI\n",
      "Maserati\n",
      "Maybach\n",
      "Mazda\n",
      "McLaren\n",
      "Mercedes-Benz\n",
      "Mercury\n",
      "Mitsubishi\n",
      "Nissan\n",
      "Oldsmobile\n",
      "Plymouth\n",
      "Pontiac\n",
      "Porsche\n",
      "Ram\n",
      "Rolls-Royce\n",
      "Saab\n",
      "Saturn\n",
      "Scion\n",
      "Subaru\n",
      "Suzuki\n",
      "Tesla\n",
      "Toyota\n",
      "Volkswagen\n",
      "Volvo\n",
      "smart\n"
     ]
    },
    {
     "data": {
      "text/plain": [
       "58"
      ]
     },
     "execution_count": 11,
     "metadata": {},
     "output_type": "execute_result"
    }
   ],
   "source": [
    "for key, value in make_freq.items():\n",
    "    print(key)\n"
   ]
  },
  {
   "cell_type": "code",
   "execution_count": 22,
   "metadata": {},
   "outputs": [
    {
     "data": {
      "text/plain": [
       "57"
      ]
     },
     "execution_count": 22,
     "metadata": {},
     "output_type": "execute_result"
    }
   ],
   "source": [
    "len(data_freq_enc.Make.unique())"
   ]
  },
  {
   "cell_type": "code",
   "execution_count": 29,
   "metadata": {},
   "outputs": [
    {
     "data": {
      "text/html": [
       "<div>\n",
       "<style scoped>\n",
       "    .dataframe tbody tr th:only-of-type {\n",
       "        vertical-align: middle;\n",
       "    }\n",
       "\n",
       "    .dataframe tbody tr th {\n",
       "        vertical-align: top;\n",
       "    }\n",
       "\n",
       "    .dataframe thead th {\n",
       "        text-align: right;\n",
       "    }\n",
       "</style>\n",
       "<table border=\"1\" class=\"dataframe\">\n",
       "  <thead>\n",
       "    <tr style=\"text-align: right;\">\n",
       "      <th></th>\n",
       "      <th>Price</th>\n",
       "      <th>Year</th>\n",
       "      <th>Mileage</th>\n",
       "      <th>City</th>\n",
       "      <th>State</th>\n",
       "      <th>Make</th>\n",
       "      <th>Model</th>\n",
       "    </tr>\n",
       "  </thead>\n",
       "  <tbody>\n",
       "    <tr>\n",
       "      <th>0</th>\n",
       "      <td>8995</td>\n",
       "      <td>2014</td>\n",
       "      <td>35725</td>\n",
       "      <td>0.003589</td>\n",
       "      <td>0.111080</td>\n",
       "      <td>0.012966</td>\n",
       "      <td>0.000022</td>\n",
       "    </tr>\n",
       "    <tr>\n",
       "      <th>1</th>\n",
       "      <td>10888</td>\n",
       "      <td>2013</td>\n",
       "      <td>19606</td>\n",
       "      <td>0.001915</td>\n",
       "      <td>0.032779</td>\n",
       "      <td>0.012966</td>\n",
       "      <td>0.000775</td>\n",
       "    </tr>\n",
       "    <tr>\n",
       "      <th>2</th>\n",
       "      <td>8995</td>\n",
       "      <td>2013</td>\n",
       "      <td>48851</td>\n",
       "      <td>0.003589</td>\n",
       "      <td>0.111080</td>\n",
       "      <td>0.012966</td>\n",
       "      <td>0.000022</td>\n",
       "    </tr>\n",
       "    <tr>\n",
       "      <th>3</th>\n",
       "      <td>10999</td>\n",
       "      <td>2014</td>\n",
       "      <td>39922</td>\n",
       "      <td>0.000499</td>\n",
       "      <td>0.026996</td>\n",
       "      <td>0.012966</td>\n",
       "      <td>0.000775</td>\n",
       "    </tr>\n",
       "    <tr>\n",
       "      <th>4</th>\n",
       "      <td>14799</td>\n",
       "      <td>2016</td>\n",
       "      <td>22142</td>\n",
       "      <td>0.000561</td>\n",
       "      <td>0.012226</td>\n",
       "      <td>0.012966</td>\n",
       "      <td>0.000219</td>\n",
       "    </tr>\n",
       "  </tbody>\n",
       "</table>\n",
       "</div>"
      ],
      "text/plain": [
       "   Price  Year  Mileage      City     State      Make     Model\n",
       "0   8995  2014    35725  0.003589  0.111080  0.012966  0.000022\n",
       "1  10888  2013    19606  0.001915  0.032779  0.012966  0.000775\n",
       "2   8995  2013    48851  0.003589  0.111080  0.012966  0.000022\n",
       "3  10999  2014    39922  0.000499  0.026996  0.012966  0.000775\n",
       "4  14799  2016    22142  0.000561  0.012226  0.012966  0.000219"
      ]
     },
     "execution_count": 29,
     "metadata": {},
     "output_type": "execute_result"
    }
   ],
   "source": [
    "data_freq_enc.head()"
   ]
  },
  {
   "cell_type": "code",
   "execution_count": 30,
   "metadata": {},
   "outputs": [
    {
     "name": "stdout",
     "output_type": "stream",
     "text": [
      "<class 'pandas.core.frame.DataFrame'>\n",
      "RangeIndex: 852122 entries, 0 to 852121\n",
      "Data columns (total 7 columns):\n",
      " #   Column   Non-Null Count   Dtype  \n",
      "---  ------   --------------   -----  \n",
      " 0   Price    852122 non-null  int64  \n",
      " 1   Year     852122 non-null  int64  \n",
      " 2   Mileage  852122 non-null  int64  \n",
      " 3   City     852122 non-null  float64\n",
      " 4   State    852122 non-null  float64\n",
      " 5   Make     852122 non-null  float64\n",
      " 6   Model    852122 non-null  float64\n",
      "dtypes: float64(4), int64(3)\n",
      "memory usage: 45.5 MB\n"
     ]
    }
   ],
   "source": [
    "data_freq_enc.info()"
   ]
  },
  {
   "cell_type": "code",
   "execution_count": 25,
   "metadata": {},
   "outputs": [],
   "source": [
    "# splitting data into test and train set\n",
    "\n",
    "x= data_freq_enc.drop('Price', axis=1)\n",
    "y= data_freq_enc['Price']\n",
    "\n",
    "x_train, x_test, y_train, y_test = train_test_split(x,y, test_size=0.2, random_state=30)"
   ]
  },
  {
   "cell_type": "code",
   "execution_count": 26,
   "metadata": {},
   "outputs": [
    {
     "name": "stdout",
     "output_type": "stream",
     "text": [
      "length of training set 681697\n",
      "length of testing set 170425\n"
     ]
    }
   ],
   "source": [
    "print('length of training set', len(x_train))\n",
    "print('length of testing set', len(x_test))"
   ]
  },
  {
   "cell_type": "markdown",
   "metadata": {},
   "source": [
    "## Models Training"
   ]
  },
  {
   "cell_type": "markdown",
   "metadata": {},
   "source": [
    "### XGBoost Regressor"
   ]
  },
  {
   "cell_type": "code",
   "execution_count": 35,
   "metadata": {},
   "outputs": [
    {
     "data": {
      "text/plain": [
       "XGBRegressor(base_score=0.5, booster='gbtree', colsample_bylevel=1,\n",
       "             colsample_bynode=1, colsample_bytree=1, enable_categorical=False,\n",
       "             gamma=0, gpu_id=-1, importance_type=None,\n",
       "             interaction_constraints='', learning_rate=0.300000012,\n",
       "             max_delta_step=0, max_depth=6, min_child_weight=1, missing=nan,\n",
       "             monotone_constraints='()', n_estimators=100, n_jobs=8,\n",
       "             num_parallel_tree=1, predictor='auto', random_state=0, reg_alpha=0,\n",
       "             reg_lambda=1, scale_pos_weight=1, subsample=1, tree_method='exact',\n",
       "             validate_parameters=1, verbosity=None)"
      ]
     },
     "execution_count": 35,
     "metadata": {},
     "output_type": "execute_result"
    }
   ],
   "source": [
    "# Model training without hyper parameters\n",
    "xgbr_model = xgbr()\n",
    "xgbr_model.fit(x_train, y_train)"
   ]
  },
  {
   "cell_type": "code",
   "execution_count": 36,
   "metadata": {},
   "outputs": [
    {
     "name": "stdout",
     "output_type": "stream",
     "text": [
      "Accuracy on test set: 85.64%\n",
      "Accuracy on train set: 87.21%\n"
     ]
    }
   ],
   "source": [
    "# performance evaluation\n",
    "\n",
    "test = xgbr_model.predict(x_test)\n",
    "train = xgbr_model.predict(x_train)\n",
    "score1 = r2_score(y_test, test)\n",
    "score2 = r2_score(y_train, train)\n",
    "print(f'Accuracy on test set: {round(score1*100,2)}%')\n",
    "print(f'Accuracy on train set: {round(score2*100,2)}%')"
   ]
  },
  {
   "cell_type": "markdown",
   "metadata": {},
   "source": [
    "### Best fit hyper parameters search"
   ]
  },
  {
   "cell_type": "code",
   "execution_count": 37,
   "metadata": {},
   "outputs": [
    {
     "data": {
      "text/plain": [
       "RandomizedSearchCV(cv=5,\n",
       "                   estimator=XGBRegressor(base_score=0.5, booster='gbtree',\n",
       "                                          colsample_bylevel=1,\n",
       "                                          colsample_bynode=1,\n",
       "                                          colsample_bytree=1,\n",
       "                                          enable_categorical=False, gamma=0,\n",
       "                                          gpu_id=-1, importance_type=None,\n",
       "                                          interaction_constraints='',\n",
       "                                          learning_rate=0.300000012,\n",
       "                                          max_delta_step=0, max_depth=6,\n",
       "                                          min_child_weight=1, missing=nan,\n",
       "                                          monotone_constraints='()',\n",
       "                                          n_estimators=100, n_jobs=8,\n",
       "                                          num_parallel_tree=1, predictor='auto',\n",
       "                                          random_state=0, reg_alpha=0,\n",
       "                                          reg_lambda=1, scale_pos_weight=1,\n",
       "                                          subsample=1, tree_method='exact',\n",
       "                                          validate_parameters=1,\n",
       "                                          verbosity=None),\n",
       "                   n_jobs=-1,\n",
       "                   param_distributions={'learning_rate': [0.1, 0.2, 0.3],\n",
       "                                        'max_depth': [7, 8],\n",
       "                                        'n_estimators': [100, 200, 300]})"
      ]
     },
     "execution_count": 37,
     "metadata": {},
     "output_type": "execute_result"
    }
   ],
   "source": [
    "# defining list of parameters for randomized search.\n",
    "\n",
    "params = {\n",
    "    'learning_rate': [0.1, 0.2, 0.3],\n",
    "    'max_depth': [7, 8],\n",
    "    'n_estimators': [100, 200, 300],\n",
    "}\n",
    "\n",
    "# cv=5 means data will be split into 5. 4 set as training data while the last 1 is set as testing data. \n",
    "rand_search = RandomizedSearchCV(xgbr_model, param_distributions=params, cv=5, n_jobs=-1, verbose=0)\n",
    "rand_search.fit(x_train, y_train)"
   ]
  },
  {
   "cell_type": "code",
   "execution_count": 38,
   "metadata": {},
   "outputs": [
    {
     "name": "stdout",
     "output_type": "stream",
     "text": [
      "Grid search hyper-parameters accuracy on train set - 93.63%\n",
      "Grid search hyper-parameters accuracy on test set - 89.98%\n"
     ]
    }
   ],
   "source": [
    "print(f'Grid search hyper-parameters accuracy on train set - {round(rand_search.score(x_train, y_train)*100,2)}%')\n",
    "print(f'Grid search hyper-parameters accuracy on test set - {round(rand_search.score(x_test, y_test)*100,2)}%')"
   ]
  },
  {
   "cell_type": "markdown",
   "metadata": {},
   "source": [
    "> The results above are good enough, the distance between the train and test results are increasing. To avoid over fitting on training data, model will trained with the current best estimators."
   ]
  },
  {
   "cell_type": "code",
   "execution_count": 39,
   "metadata": {},
   "outputs": [
    {
     "data": {
      "text/plain": [
       "XGBRegressor(base_score=0.5, booster='gbtree', colsample_bylevel=1,\n",
       "             colsample_bynode=1, colsample_bytree=1, enable_categorical=False,\n",
       "             gamma=0, gpu_id=-1, importance_type=None,\n",
       "             interaction_constraints='', learning_rate=0.3, max_delta_step=0,\n",
       "             max_depth=8, min_child_weight=1, missing=nan,\n",
       "             monotone_constraints='()', n_estimators=200, n_jobs=8,\n",
       "             num_parallel_tree=1, predictor='auto', random_state=0, reg_alpha=0,\n",
       "             reg_lambda=1, scale_pos_weight=1, subsample=1, tree_method='exact',\n",
       "             validate_parameters=1, verbosity=None)"
      ]
     },
     "execution_count": 39,
     "metadata": {},
     "output_type": "execute_result"
    }
   ],
   "source": [
    "rand_search.best_estimator_"
   ]
  },
  {
   "cell_type": "code",
   "execution_count": 27,
   "metadata": {},
   "outputs": [
    {
     "name": "stdout",
     "output_type": "stream",
     "text": [
      "[0]\tvalidation_0-rmse:18937.45508\tvalidation_1-rmse:18910.88281\n",
      "[1]\tvalidation_0-rmse:14620.35059\tvalidation_1-rmse:14632.74902\n",
      "[2]\tvalidation_0-rmse:11769.35449\tvalidation_1-rmse:11826.57715\n",
      "[3]\tvalidation_0-rmse:9944.29004\tvalidation_1-rmse:10013.77539\n",
      "[4]\tvalidation_0-rmse:8886.88965\tvalidation_1-rmse:8971.32812\n",
      "[5]\tvalidation_0-rmse:8216.90527\tvalidation_1-rmse:8322.77246\n",
      "[6]\tvalidation_0-rmse:7811.82031\tvalidation_1-rmse:7932.36230\n",
      "[7]\tvalidation_0-rmse:7455.09570\tvalidation_1-rmse:7588.41016\n",
      "[8]\tvalidation_0-rmse:7222.16309\tvalidation_1-rmse:7360.68603\n",
      "[9]\tvalidation_0-rmse:6973.92188\tvalidation_1-rmse:7122.33936\n",
      "[10]\tvalidation_0-rmse:6841.50391\tvalidation_1-rmse:7003.53125\n",
      "[11]\tvalidation_0-rmse:6732.74902\tvalidation_1-rmse:6900.96533\n",
      "[12]\tvalidation_0-rmse:6558.89893\tvalidation_1-rmse:6735.70361\n",
      "[13]\tvalidation_0-rmse:6465.84619\tvalidation_1-rmse:6647.13525\n",
      "[14]\tvalidation_0-rmse:6220.95801\tvalidation_1-rmse:6405.52490\n",
      "[15]\tvalidation_0-rmse:6071.39795\tvalidation_1-rmse:6253.96191\n",
      "[16]\tvalidation_0-rmse:6018.00147\tvalidation_1-rmse:6211.38525\n",
      "[17]\tvalidation_0-rmse:5993.73730\tvalidation_1-rmse:6193.00293\n",
      "[18]\tvalidation_0-rmse:5945.94873\tvalidation_1-rmse:6151.22754\n",
      "[19]\tvalidation_0-rmse:5712.83398\tvalidation_1-rmse:5933.30664\n",
      "[20]\tvalidation_0-rmse:5680.11182\tvalidation_1-rmse:5915.31055\n",
      "[21]\tvalidation_0-rmse:5589.92236\tvalidation_1-rmse:5832.41357\n",
      "[22]\tvalidation_0-rmse:5535.27686\tvalidation_1-rmse:5780.40723\n",
      "[23]\tvalidation_0-rmse:5494.72022\tvalidation_1-rmse:5752.20117\n",
      "[24]\tvalidation_0-rmse:5436.15088\tvalidation_1-rmse:5699.26807\n",
      "[25]\tvalidation_0-rmse:5399.92432\tvalidation_1-rmse:5680.74268\n",
      "[26]\tvalidation_0-rmse:5379.86377\tvalidation_1-rmse:5664.89258\n",
      "[27]\tvalidation_0-rmse:5336.48828\tvalidation_1-rmse:5625.96191\n",
      "[28]\tvalidation_0-rmse:5310.40186\tvalidation_1-rmse:5605.44727\n",
      "[29]\tvalidation_0-rmse:5253.28174\tvalidation_1-rmse:5557.54590\n",
      "[30]\tvalidation_0-rmse:5194.63916\tvalidation_1-rmse:5503.57471\n",
      "[31]\tvalidation_0-rmse:5128.41162\tvalidation_1-rmse:5439.08154\n",
      "[32]\tvalidation_0-rmse:5017.04883\tvalidation_1-rmse:5331.27002\n",
      "[33]\tvalidation_0-rmse:4981.11279\tvalidation_1-rmse:5301.32178\n",
      "[34]\tvalidation_0-rmse:4955.51611\tvalidation_1-rmse:5277.48291\n",
      "[35]\tvalidation_0-rmse:4945.13623\tvalidation_1-rmse:5274.06982\n",
      "[36]\tvalidation_0-rmse:4927.07031\tvalidation_1-rmse:5262.65332\n",
      "[37]\tvalidation_0-rmse:4916.58496\tvalidation_1-rmse:5257.45459\n",
      "[38]\tvalidation_0-rmse:4899.57764\tvalidation_1-rmse:5245.03369\n",
      "[39]\tvalidation_0-rmse:4870.60059\tvalidation_1-rmse:5222.00977\n",
      "[40]\tvalidation_0-rmse:4826.15478\tvalidation_1-rmse:5180.09375\n",
      "[41]\tvalidation_0-rmse:4794.27734\tvalidation_1-rmse:5157.02637\n",
      "[42]\tvalidation_0-rmse:4765.82373\tvalidation_1-rmse:5130.71924\n",
      "[43]\tvalidation_0-rmse:4748.98633\tvalidation_1-rmse:5121.88477\n",
      "[44]\tvalidation_0-rmse:4713.91943\tvalidation_1-rmse:5086.85889\n",
      "[45]\tvalidation_0-rmse:4691.46533\tvalidation_1-rmse:5066.28564\n",
      "[46]\tvalidation_0-rmse:4683.22559\tvalidation_1-rmse:5061.06836\n",
      "[47]\tvalidation_0-rmse:4645.70898\tvalidation_1-rmse:5026.88135\n",
      "[48]\tvalidation_0-rmse:4625.27490\tvalidation_1-rmse:5012.01611\n",
      "[49]\tvalidation_0-rmse:4595.78857\tvalidation_1-rmse:4986.91357\n",
      "[50]\tvalidation_0-rmse:4564.03320\tvalidation_1-rmse:4951.99365\n",
      "[51]\tvalidation_0-rmse:4531.25293\tvalidation_1-rmse:4927.14600\n",
      "[52]\tvalidation_0-rmse:4513.10645\tvalidation_1-rmse:4918.23340\n",
      "[53]\tvalidation_0-rmse:4505.26025\tvalidation_1-rmse:4916.70605\n",
      "[54]\tvalidation_0-rmse:4492.53223\tvalidation_1-rmse:4907.23242\n",
      "[55]\tvalidation_0-rmse:4489.19727\tvalidation_1-rmse:4906.02588\n",
      "[56]\tvalidation_0-rmse:4477.52148\tvalidation_1-rmse:4900.49121\n",
      "[57]\tvalidation_0-rmse:4451.42578\tvalidation_1-rmse:4881.46631\n",
      "[58]\tvalidation_0-rmse:4433.31738\tvalidation_1-rmse:4865.52051\n",
      "[59]\tvalidation_0-rmse:4417.07520\tvalidation_1-rmse:4851.46875\n",
      "[60]\tvalidation_0-rmse:4409.61816\tvalidation_1-rmse:4849.16504\n",
      "[61]\tvalidation_0-rmse:4392.87842\tvalidation_1-rmse:4838.03418\n",
      "[62]\tvalidation_0-rmse:4379.49316\tvalidation_1-rmse:4829.24072\n",
      "[63]\tvalidation_0-rmse:4368.29004\tvalidation_1-rmse:4823.25684\n",
      "[64]\tvalidation_0-rmse:4348.02197\tvalidation_1-rmse:4804.22461\n",
      "[65]\tvalidation_0-rmse:4327.12402\tvalidation_1-rmse:4785.93457\n",
      "[66]\tvalidation_0-rmse:4311.48438\tvalidation_1-rmse:4774.84522\n",
      "[67]\tvalidation_0-rmse:4304.25488\tvalidation_1-rmse:4771.66553\n",
      "[68]\tvalidation_0-rmse:4281.27441\tvalidation_1-rmse:4754.47705\n",
      "[69]\tvalidation_0-rmse:4259.68848\tvalidation_1-rmse:4743.02881\n",
      "[70]\tvalidation_0-rmse:4247.33105\tvalidation_1-rmse:4735.98975\n",
      "[71]\tvalidation_0-rmse:4227.03857\tvalidation_1-rmse:4718.37109\n",
      "[72]\tvalidation_0-rmse:4213.58984\tvalidation_1-rmse:4707.57617\n",
      "[73]\tvalidation_0-rmse:4210.24170\tvalidation_1-rmse:4707.03711\n",
      "[74]\tvalidation_0-rmse:4190.88867\tvalidation_1-rmse:4691.80518\n",
      "[75]\tvalidation_0-rmse:4170.80225\tvalidation_1-rmse:4676.66113\n",
      "[76]\tvalidation_0-rmse:4161.03955\tvalidation_1-rmse:4672.03809\n",
      "[77]\tvalidation_0-rmse:4155.13428\tvalidation_1-rmse:4667.43311\n",
      "[78]\tvalidation_0-rmse:4140.90869\tvalidation_1-rmse:4662.14746\n",
      "[79]\tvalidation_0-rmse:4130.14697\tvalidation_1-rmse:4654.95068\n",
      "[80]\tvalidation_0-rmse:4119.11035\tvalidation_1-rmse:4650.12305\n",
      "[81]\tvalidation_0-rmse:4114.18213\tvalidation_1-rmse:4645.58740\n",
      "[82]\tvalidation_0-rmse:4101.22266\tvalidation_1-rmse:4637.43115\n",
      "[83]\tvalidation_0-rmse:4092.60132\tvalidation_1-rmse:4637.02832\n",
      "[84]\tvalidation_0-rmse:4090.23560\tvalidation_1-rmse:4636.21924\n",
      "[85]\tvalidation_0-rmse:4083.75171\tvalidation_1-rmse:4632.88916\n",
      "[86]\tvalidation_0-rmse:4073.26978\tvalidation_1-rmse:4629.75195\n",
      "[87]\tvalidation_0-rmse:4065.71680\tvalidation_1-rmse:4623.47510\n",
      "[88]\tvalidation_0-rmse:4051.41431\tvalidation_1-rmse:4610.75586\n",
      "[89]\tvalidation_0-rmse:4048.27344\tvalidation_1-rmse:4608.24609\n",
      "[90]\tvalidation_0-rmse:4037.12207\tvalidation_1-rmse:4597.73877\n",
      "[91]\tvalidation_0-rmse:4030.08423\tvalidation_1-rmse:4591.68799\n",
      "[92]\tvalidation_0-rmse:4017.18188\tvalidation_1-rmse:4580.42822\n",
      "[93]\tvalidation_0-rmse:4007.68896\tvalidation_1-rmse:4577.66162\n",
      "[94]\tvalidation_0-rmse:3996.26416\tvalidation_1-rmse:4566.27978\n",
      "[95]\tvalidation_0-rmse:3989.64380\tvalidation_1-rmse:4564.31592\n",
      "[96]\tvalidation_0-rmse:3978.89453\tvalidation_1-rmse:4553.75635\n",
      "[97]\tvalidation_0-rmse:3959.91357\tvalidation_1-rmse:4535.60547\n",
      "[98]\tvalidation_0-rmse:3946.00464\tvalidation_1-rmse:4525.75098\n",
      "[99]\tvalidation_0-rmse:3935.38110\tvalidation_1-rmse:4518.72022\n",
      "[100]\tvalidation_0-rmse:3923.93433\tvalidation_1-rmse:4512.43262\n",
      "[101]\tvalidation_0-rmse:3918.24072\tvalidation_1-rmse:4509.56494\n",
      "[102]\tvalidation_0-rmse:3912.40723\tvalidation_1-rmse:4507.59570\n",
      "[103]\tvalidation_0-rmse:3903.19580\tvalidation_1-rmse:4500.55176\n",
      "[104]\tvalidation_0-rmse:3886.81250\tvalidation_1-rmse:4495.68164\n",
      "[105]\tvalidation_0-rmse:3878.40015\tvalidation_1-rmse:4488.33154\n",
      "[106]\tvalidation_0-rmse:3873.68604\tvalidation_1-rmse:4486.30859\n",
      "[107]\tvalidation_0-rmse:3868.03394\tvalidation_1-rmse:4485.49365\n",
      "[108]\tvalidation_0-rmse:3862.03174\tvalidation_1-rmse:4481.08887\n",
      "[109]\tvalidation_0-rmse:3858.55249\tvalidation_1-rmse:4478.82764\n",
      "[110]\tvalidation_0-rmse:3851.82324\tvalidation_1-rmse:4475.46240\n",
      "[111]\tvalidation_0-rmse:3850.32251\tvalidation_1-rmse:4475.09277\n",
      "[112]\tvalidation_0-rmse:3838.21606\tvalidation_1-rmse:4467.93213\n",
      "[113]\tvalidation_0-rmse:3833.01929\tvalidation_1-rmse:4465.61670\n",
      "[114]\tvalidation_0-rmse:3826.33106\tvalidation_1-rmse:4461.20215\n",
      "[115]\tvalidation_0-rmse:3822.71826\tvalidation_1-rmse:4460.88574\n",
      "[116]\tvalidation_0-rmse:3815.25977\tvalidation_1-rmse:4454.96240\n",
      "[117]\tvalidation_0-rmse:3810.41089\tvalidation_1-rmse:4451.23682\n",
      "[118]\tvalidation_0-rmse:3800.90820\tvalidation_1-rmse:4444.03467\n",
      "[119]\tvalidation_0-rmse:3797.21045\tvalidation_1-rmse:4442.62061\n",
      "[120]\tvalidation_0-rmse:3791.89990\tvalidation_1-rmse:4440.93115\n",
      "[121]\tvalidation_0-rmse:3780.03980\tvalidation_1-rmse:4428.02490\n",
      "[122]\tvalidation_0-rmse:3776.35571\tvalidation_1-rmse:4425.10498\n",
      "[123]\tvalidation_0-rmse:3770.17700\tvalidation_1-rmse:4422.84180\n",
      "[124]\tvalidation_0-rmse:3766.84180\tvalidation_1-rmse:4422.72314\n",
      "[125]\tvalidation_0-rmse:3761.18750\tvalidation_1-rmse:4418.43408\n",
      "[126]\tvalidation_0-rmse:3754.98853\tvalidation_1-rmse:4417.26904\n",
      "[127]\tvalidation_0-rmse:3744.40503\tvalidation_1-rmse:4410.27930\n",
      "[128]\tvalidation_0-rmse:3737.33423\tvalidation_1-rmse:4407.92627\n",
      "[129]\tvalidation_0-rmse:3731.85156\tvalidation_1-rmse:4405.51270\n",
      "[130]\tvalidation_0-rmse:3729.66870\tvalidation_1-rmse:4404.49512\n",
      "[131]\tvalidation_0-rmse:3726.99097\tvalidation_1-rmse:4403.84033\n",
      "[132]\tvalidation_0-rmse:3715.14917\tvalidation_1-rmse:4406.03418\n",
      "[133]\tvalidation_0-rmse:3708.48193\tvalidation_1-rmse:4404.42285\n",
      "[134]\tvalidation_0-rmse:3705.73901\tvalidation_1-rmse:4403.52881\n",
      "[135]\tvalidation_0-rmse:3699.54053\tvalidation_1-rmse:4398.92627\n",
      "[136]\tvalidation_0-rmse:3695.62573\tvalidation_1-rmse:4396.36963\n",
      "[137]\tvalidation_0-rmse:3693.23120\tvalidation_1-rmse:4395.63037\n",
      "[138]\tvalidation_0-rmse:3679.95142\tvalidation_1-rmse:4380.96436\n",
      "[139]\tvalidation_0-rmse:3675.23975\tvalidation_1-rmse:4377.66064\n",
      "[140]\tvalidation_0-rmse:3670.09326\tvalidation_1-rmse:4374.27441\n",
      "[141]\tvalidation_0-rmse:3665.18701\tvalidation_1-rmse:4375.09522\n",
      "[142]\tvalidation_0-rmse:3662.08838\tvalidation_1-rmse:4372.84766\n",
      "[143]\tvalidation_0-rmse:3659.44556\tvalidation_1-rmse:4372.30420\n",
      "[144]\tvalidation_0-rmse:3656.84180\tvalidation_1-rmse:4371.13965\n",
      "[145]\tvalidation_0-rmse:3651.93823\tvalidation_1-rmse:4369.05762\n",
      "[146]\tvalidation_0-rmse:3649.75952\tvalidation_1-rmse:4367.56397\n",
      "[147]\tvalidation_0-rmse:3645.86719\tvalidation_1-rmse:4367.60400\n",
      "[148]\tvalidation_0-rmse:3644.69116\tvalidation_1-rmse:4367.57861\n",
      "[149]\tvalidation_0-rmse:3642.97510\tvalidation_1-rmse:4368.09473\n",
      "[150]\tvalidation_0-rmse:3638.57642\tvalidation_1-rmse:4370.22705\n",
      "[151]\tvalidation_0-rmse:3631.34326\tvalidation_1-rmse:4364.00732\n",
      "[152]\tvalidation_0-rmse:3620.10449\tvalidation_1-rmse:4355.37256\n",
      "[153]\tvalidation_0-rmse:3618.01269\tvalidation_1-rmse:4355.24512\n",
      "[154]\tvalidation_0-rmse:3611.58301\tvalidation_1-rmse:4348.09912\n",
      "[155]\tvalidation_0-rmse:3607.05249\tvalidation_1-rmse:4345.41504\n",
      "[156]\tvalidation_0-rmse:3604.19238\tvalidation_1-rmse:4344.41162\n",
      "[157]\tvalidation_0-rmse:3600.09424\tvalidation_1-rmse:4341.91455\n",
      "[158]\tvalidation_0-rmse:3595.42993\tvalidation_1-rmse:4340.11377\n",
      "[159]\tvalidation_0-rmse:3591.90869\tvalidation_1-rmse:4338.41455\n",
      "[160]\tvalidation_0-rmse:3589.56396\tvalidation_1-rmse:4337.64600\n",
      "[161]\tvalidation_0-rmse:3585.87524\tvalidation_1-rmse:4336.26514\n",
      "[162]\tvalidation_0-rmse:3576.89648\tvalidation_1-rmse:4332.14209\n",
      "[163]\tvalidation_0-rmse:3574.56885\tvalidation_1-rmse:4330.89258\n",
      "[164]\tvalidation_0-rmse:3563.67163\tvalidation_1-rmse:4331.49414\n",
      "[165]\tvalidation_0-rmse:3560.93726\tvalidation_1-rmse:4331.06201\n",
      "[166]\tvalidation_0-rmse:3557.29394\tvalidation_1-rmse:4328.33789\n",
      "[167]\tvalidation_0-rmse:3549.18994\tvalidation_1-rmse:4324.81543\n",
      "[168]\tvalidation_0-rmse:3545.49365\tvalidation_1-rmse:4323.25830\n",
      "[169]\tvalidation_0-rmse:3539.94409\tvalidation_1-rmse:4318.72852\n",
      "[170]\tvalidation_0-rmse:3536.92188\tvalidation_1-rmse:4318.38574\n",
      "[171]\tvalidation_0-rmse:3534.28955\tvalidation_1-rmse:4317.33838\n",
      "[172]\tvalidation_0-rmse:3529.20264\tvalidation_1-rmse:4315.62500\n",
      "[173]\tvalidation_0-rmse:3526.71045\tvalidation_1-rmse:4314.57031\n",
      "[174]\tvalidation_0-rmse:3525.11841\tvalidation_1-rmse:4314.17773\n",
      "[175]\tvalidation_0-rmse:3520.63647\tvalidation_1-rmse:4310.39307\n",
      "[176]\tvalidation_0-rmse:3520.27515\tvalidation_1-rmse:4310.35303\n",
      "[177]\tvalidation_0-rmse:3516.77124\tvalidation_1-rmse:4309.05127\n",
      "[178]\tvalidation_0-rmse:3513.03076\tvalidation_1-rmse:4306.88818\n",
      "[179]\tvalidation_0-rmse:3510.60791\tvalidation_1-rmse:4306.21582\n",
      "[180]\tvalidation_0-rmse:3502.55347\tvalidation_1-rmse:4303.21777\n",
      "[181]\tvalidation_0-rmse:3493.91333\tvalidation_1-rmse:4300.82617\n",
      "[182]\tvalidation_0-rmse:3488.41650\tvalidation_1-rmse:4299.04883\n",
      "[183]\tvalidation_0-rmse:3482.40845\tvalidation_1-rmse:4293.46582\n",
      "[184]\tvalidation_0-rmse:3479.10034\tvalidation_1-rmse:4292.48096\n",
      "[185]\tvalidation_0-rmse:3478.62280\tvalidation_1-rmse:4292.45166\n",
      "[186]\tvalidation_0-rmse:3477.44019\tvalidation_1-rmse:4292.83203\n",
      "[187]\tvalidation_0-rmse:3475.10669\tvalidation_1-rmse:4291.66455\n",
      "[188]\tvalidation_0-rmse:3471.96216\tvalidation_1-rmse:4288.30029\n",
      "[189]\tvalidation_0-rmse:3469.95728\tvalidation_1-rmse:4288.03272\n",
      "[190]\tvalidation_0-rmse:3462.24976\tvalidation_1-rmse:4286.75635\n",
      "[191]\tvalidation_0-rmse:3459.81543\tvalidation_1-rmse:4284.24316\n",
      "[192]\tvalidation_0-rmse:3455.70312\tvalidation_1-rmse:4281.49268\n",
      "[193]\tvalidation_0-rmse:3453.96191\tvalidation_1-rmse:4280.39111\n",
      "[194]\tvalidation_0-rmse:3447.50049\tvalidation_1-rmse:4281.85791\n",
      "[195]\tvalidation_0-rmse:3446.85522\tvalidation_1-rmse:4281.96631\n",
      "[196]\tvalidation_0-rmse:3446.17822\tvalidation_1-rmse:4281.79883\n",
      "[197]\tvalidation_0-rmse:3443.25220\tvalidation_1-rmse:4281.84082\n",
      "[198]\tvalidation_0-rmse:3439.47925\tvalidation_1-rmse:4281.65820\n",
      "[199]\tvalidation_0-rmse:3436.90503\tvalidation_1-rmse:4280.89258\n",
      "[200]\tvalidation_0-rmse:3436.21094\tvalidation_1-rmse:4279.67432\n",
      "[201]\tvalidation_0-rmse:3433.56274\tvalidation_1-rmse:4280.10791\n",
      "[202]\tvalidation_0-rmse:3430.51099\tvalidation_1-rmse:4277.25049\n",
      "[203]\tvalidation_0-rmse:3427.59521\tvalidation_1-rmse:4276.21973\n",
      "[204]\tvalidation_0-rmse:3424.14502\tvalidation_1-rmse:4275.48877\n",
      "[205]\tvalidation_0-rmse:3421.78564\tvalidation_1-rmse:4274.52246\n",
      "[206]\tvalidation_0-rmse:3420.11719\tvalidation_1-rmse:4274.12988\n",
      "[207]\tvalidation_0-rmse:3417.08447\tvalidation_1-rmse:4271.76904\n",
      "[208]\tvalidation_0-rmse:3414.75195\tvalidation_1-rmse:4270.69678\n",
      "[209]\tvalidation_0-rmse:3411.84912\tvalidation_1-rmse:4269.78662\n",
      "[210]\tvalidation_0-rmse:3411.16309\tvalidation_1-rmse:4269.94141\n",
      "[211]\tvalidation_0-rmse:3410.11841\tvalidation_1-rmse:4269.57324\n",
      "[212]\tvalidation_0-rmse:3408.32373\tvalidation_1-rmse:4269.49170\n",
      "[213]\tvalidation_0-rmse:3403.88428\tvalidation_1-rmse:4266.95850\n",
      "[214]\tvalidation_0-rmse:3402.27075\tvalidation_1-rmse:4267.04688\n",
      "[215]\tvalidation_0-rmse:3400.10864\tvalidation_1-rmse:4266.13916\n",
      "[216]\tvalidation_0-rmse:3399.19263\tvalidation_1-rmse:4265.92773\n",
      "[217]\tvalidation_0-rmse:3397.40820\tvalidation_1-rmse:4265.00635\n",
      "[218]\tvalidation_0-rmse:3395.89624\tvalidation_1-rmse:4264.37353\n",
      "[219]\tvalidation_0-rmse:3392.86645\tvalidation_1-rmse:4263.17676\n",
      "[220]\tvalidation_0-rmse:3388.07739\tvalidation_1-rmse:4261.71045\n",
      "[221]\tvalidation_0-rmse:3385.97681\tvalidation_1-rmse:4260.49658\n",
      "[222]\tvalidation_0-rmse:3382.13208\tvalidation_1-rmse:4260.77295\n",
      "[223]\tvalidation_0-rmse:3378.39209\tvalidation_1-rmse:4260.31885\n",
      "[224]\tvalidation_0-rmse:3376.92456\tvalidation_1-rmse:4259.92920\n",
      "[225]\tvalidation_0-rmse:3372.12671\tvalidation_1-rmse:4257.42236\n",
      "[226]\tvalidation_0-rmse:3367.48731\tvalidation_1-rmse:4258.21143\n",
      "[227]\tvalidation_0-rmse:3364.85400\tvalidation_1-rmse:4258.37061\n",
      "[228]\tvalidation_0-rmse:3362.82519\tvalidation_1-rmse:4257.17627\n",
      "[229]\tvalidation_0-rmse:3361.46558\tvalidation_1-rmse:4256.53174\n",
      "[230]\tvalidation_0-rmse:3360.27979\tvalidation_1-rmse:4256.21631\n",
      "[231]\tvalidation_0-rmse:3357.49829\tvalidation_1-rmse:4255.31103\n",
      "[232]\tvalidation_0-rmse:3354.15503\tvalidation_1-rmse:4254.55957\n",
      "[233]\tvalidation_0-rmse:3353.49829\tvalidation_1-rmse:4254.41943\n",
      "[234]\tvalidation_0-rmse:3351.91309\tvalidation_1-rmse:4254.13428\n",
      "[235]\tvalidation_0-rmse:3348.75342\tvalidation_1-rmse:4255.38623\n",
      "[236]\tvalidation_0-rmse:3346.92236\tvalidation_1-rmse:4255.09473\n",
      "[237]\tvalidation_0-rmse:3345.02490\tvalidation_1-rmse:4254.22949\n",
      "[238]\tvalidation_0-rmse:3341.42407\tvalidation_1-rmse:4252.96924\n",
      "[239]\tvalidation_0-rmse:3339.00415\tvalidation_1-rmse:4251.87793\n",
      "[240]\tvalidation_0-rmse:3338.47192\tvalidation_1-rmse:4251.82812\n",
      "[241]\tvalidation_0-rmse:3337.63867\tvalidation_1-rmse:4251.86279\n",
      "[242]\tvalidation_0-rmse:3330.94092\tvalidation_1-rmse:4250.32715\n",
      "[243]\tvalidation_0-rmse:3328.05444\tvalidation_1-rmse:4247.34717\n",
      "[244]\tvalidation_0-rmse:3326.75220\tvalidation_1-rmse:4247.09766\n",
      "[245]\tvalidation_0-rmse:3325.76904\tvalidation_1-rmse:4246.63867\n",
      "[246]\tvalidation_0-rmse:3323.64770\tvalidation_1-rmse:4245.53613\n",
      "[247]\tvalidation_0-rmse:3321.91016\tvalidation_1-rmse:4245.16357\n",
      "[248]\tvalidation_0-rmse:3321.61743\tvalidation_1-rmse:4245.14355\n",
      "[249]\tvalidation_0-rmse:3317.62085\tvalidation_1-rmse:4246.06103\n",
      "[250]\tvalidation_0-rmse:3314.54102\tvalidation_1-rmse:4245.59863\n",
      "[251]\tvalidation_0-rmse:3311.69434\tvalidation_1-rmse:4244.63965\n",
      "[252]\tvalidation_0-rmse:3310.26733\tvalidation_1-rmse:4245.03076\n",
      "[253]\tvalidation_0-rmse:3309.73242\tvalidation_1-rmse:4244.97998\n",
      "[254]\tvalidation_0-rmse:3308.99854\tvalidation_1-rmse:4244.91113\n",
      "[255]\tvalidation_0-rmse:3307.49145\tvalidation_1-rmse:4244.83350\n",
      "[256]\tvalidation_0-rmse:3306.26416\tvalidation_1-rmse:4244.65918\n",
      "[257]\tvalidation_0-rmse:3303.58447\tvalidation_1-rmse:4244.81445\n",
      "[258]\tvalidation_0-rmse:3303.17895\tvalidation_1-rmse:4244.82227\n",
      "[259]\tvalidation_0-rmse:3301.61987\tvalidation_1-rmse:4245.26318\n",
      "[260]\tvalidation_0-rmse:3300.73486\tvalidation_1-rmse:4245.14111\n",
      "[261]\tvalidation_0-rmse:3296.66357\tvalidation_1-rmse:4244.21924\n",
      "[262]\tvalidation_0-rmse:3291.65649\tvalidation_1-rmse:4240.79492\n",
      "[263]\tvalidation_0-rmse:3289.44312\tvalidation_1-rmse:4240.14844\n",
      "[264]\tvalidation_0-rmse:3286.35571\tvalidation_1-rmse:4238.78564\n",
      "[265]\tvalidation_0-rmse:3284.67871\tvalidation_1-rmse:4237.97070\n",
      "[266]\tvalidation_0-rmse:3282.90430\tvalidation_1-rmse:4237.91406\n",
      "[267]\tvalidation_0-rmse:3281.34546\tvalidation_1-rmse:4236.86572\n",
      "[268]\tvalidation_0-rmse:3279.22290\tvalidation_1-rmse:4237.05469\n",
      "[269]\tvalidation_0-rmse:3277.50439\tvalidation_1-rmse:4236.56738\n",
      "[270]\tvalidation_0-rmse:3274.78271\tvalidation_1-rmse:4236.21924\n",
      "[271]\tvalidation_0-rmse:3273.86035\tvalidation_1-rmse:4236.13379\n",
      "[272]\tvalidation_0-rmse:3272.82300\tvalidation_1-rmse:4236.05615\n",
      "[273]\tvalidation_0-rmse:3271.74683\tvalidation_1-rmse:4236.04004\n",
      "[274]\tvalidation_0-rmse:3269.89746\tvalidation_1-rmse:4235.89990\n",
      "[275]\tvalidation_0-rmse:3268.57227\tvalidation_1-rmse:4235.63086\n",
      "[276]\tvalidation_0-rmse:3266.75781\tvalidation_1-rmse:4233.67285\n",
      "[277]\tvalidation_0-rmse:3263.72388\tvalidation_1-rmse:4231.43164\n",
      "[278]\tvalidation_0-rmse:3262.83398\tvalidation_1-rmse:4231.64746\n",
      "[279]\tvalidation_0-rmse:3260.28076\tvalidation_1-rmse:4231.06006\n",
      "[280]\tvalidation_0-rmse:3258.03687\tvalidation_1-rmse:4231.84863\n",
      "[281]\tvalidation_0-rmse:3256.01074\tvalidation_1-rmse:4232.27295\n",
      "[282]\tvalidation_0-rmse:3254.47803\tvalidation_1-rmse:4232.20166\n",
      "[283]\tvalidation_0-rmse:3253.96289\tvalidation_1-rmse:4232.20850\n",
      "[284]\tvalidation_0-rmse:3253.80859\tvalidation_1-rmse:4232.25928\n",
      "[285]\tvalidation_0-rmse:3253.61157\tvalidation_1-rmse:4232.25244\n",
      "[286]\tvalidation_0-rmse:3251.07617\tvalidation_1-rmse:4231.67871\n",
      "[287]\tvalidation_0-rmse:3248.60791\tvalidation_1-rmse:4230.90430\n",
      "[288]\tvalidation_0-rmse:3247.38892\tvalidation_1-rmse:4229.82373\n",
      "[289]\tvalidation_0-rmse:3247.22437\tvalidation_1-rmse:4229.86475\n",
      "[290]\tvalidation_0-rmse:3241.97827\tvalidation_1-rmse:4229.42725\n",
      "[291]\tvalidation_0-rmse:3240.07275\tvalidation_1-rmse:4228.96094\n",
      "[292]\tvalidation_0-rmse:3238.12842\tvalidation_1-rmse:4228.76660\n",
      "[293]\tvalidation_0-rmse:3235.62646\tvalidation_1-rmse:4229.18213\n",
      "[294]\tvalidation_0-rmse:3233.13647\tvalidation_1-rmse:4229.33936\n",
      "[295]\tvalidation_0-rmse:3230.78174\tvalidation_1-rmse:4228.60986\n",
      "[296]\tvalidation_0-rmse:3228.01880\tvalidation_1-rmse:4229.02539\n",
      "[297]\tvalidation_0-rmse:3225.59741\tvalidation_1-rmse:4228.78662\n",
      "[298]\tvalidation_0-rmse:3224.55835\tvalidation_1-rmse:4227.75635\n",
      "[299]\tvalidation_0-rmse:3219.09619\tvalidation_1-rmse:4224.87744\n"
     ]
    },
    {
     "data": {
      "text/plain": [
       "XGBRegressor(base_score=0.5, booster='gbtree', colsample_bylevel=1,\n",
       "             colsample_bynode=1, colsample_bytree=1, enable_categorical=False,\n",
       "             gamma=0, gpu_id=-1, importance_type=None,\n",
       "             interaction_constraints='', learning_rate=0.3, max_delta_step=0,\n",
       "             max_depth=8, min_child_weight=1, missing=nan,\n",
       "             monotone_constraints='()', n_estimators=300, n_jobs=8,\n",
       "             num_parallel_tree=1, predictor='auto', random_state=0, reg_alpha=0,\n",
       "             reg_lambda=1, scale_pos_weight=1, subsample=1, tree_method='exact',\n",
       "             validate_parameters=1, verbosity=None)"
      ]
     },
     "execution_count": 27,
     "metadata": {},
     "output_type": "execute_result"
    }
   ],
   "source": [
    "# training model with best estimators and calculating squared error to check model performance\n",
    "evalset = [(x_train, y_train), (x_test,y_test)]\n",
    "xgbr_model = xgbr(learning_rate=0.3, max_depth=8, n_estimators=300)\n",
    "xgbr_model.fit(x_train, y_train, eval_metric='rmse', eval_set=evalset)"
   ]
  },
  {
   "cell_type": "code",
   "execution_count": 28,
   "metadata": {},
   "outputs": [
    {
     "name": "stdout",
     "output_type": "stream",
     "text": [
      "Accuracy on test set: 90.24%\n",
      "Accuracy on train set: 94.41%\n"
     ]
    }
   ],
   "source": [
    "# adjusted model performance evaluation\n",
    "test_new = xgbr_model.predict(x_test)\n",
    "train_new = xgbr_model.predict(x_train)\n",
    "score1 = r2_score(y_test, test_new)\n",
    "score2 = r2_score(y_train, train_new)\n",
    "print(f'Accuracy on test set: {round(score1*100,2)}%')\n",
    "print(f'Accuracy on train set: {round(score2*100,2)}%')"
   ]
  },
  {
   "cell_type": "code",
   "execution_count": 42,
   "metadata": {},
   "outputs": [
    {
     "data": {
      "image/png": "[encoded data removed]",
      "text/plain": [
       "<Figure size 432x288 with 1 Axes>"
      ]
     },
     "metadata": {
      "needs_background": "light"
     },
     "output_type": "display_data"
    }
   ],
   "source": [
    "# Plotting visualzation of root mean square error against number of estimators from 0 to 300\n",
    "# to visually represent as test and train set predictions results rmse grow appart with increasing number of estimators\n",
    "\n",
    "results = xgbr_model.evals_result()\n",
    "\n",
    "# plot learning curves\n",
    "plt.plot(results['validation_0']['rmse'], label='train')\n",
    "plt.plot(results['validation_1']['rmse'], label='test')\n",
    "# show the legend\n",
    "plt.legend()\n",
    "# show the plot\n",
    "plt.show()"
   ]
  },
  {
   "cell_type": "code",
   "execution_count": 29,
   "metadata": {},
   "outputs": [],
   "source": [
    "# save the model to disk\n",
    "filename = 'finalized_model'\n",
    "pickle.dump(xgbr_model, open(filename, 'wb'))"
   ]
  }
 ],
 "metadata": {
  "interpreter": {
   "hash": "698943654ed90e0d601c73b15b591a66035d577c3c6badc918040a9e516c87b7"
  },
  "kernelspec": {
   "display_name": "Python 3.10.3 64-bit",
   "language": "python",
   "name": "python3"
  },
  "language_info": {
   "codemirror_mode": {
    "name": "ipython",
    "version": 3
   },
   "file_extension": ".py",
   "mimetype": "text/x-python",
   "name": "python",
   "nbconvert_exporter": "python",
   "pygments_lexer": "ipython3",
   "version": "3.10.3"
  },
  "orig_nbformat": 4
 },
 "nbformat": 4,
 "nbformat_minor": 2
}
