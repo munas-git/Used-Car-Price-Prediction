{
 "cells": [
  {
   "cell_type": "markdown",
   "metadata": {},
   "source": [
    "## Project End Goal\n",
    "> Be able to predict the prices of various used cars"
   ]
  },
  {
   "cell_type": "markdown",
   "metadata": {},
   "source": [
    "## Importing Important Libraries"
   ]
  },
  {
   "cell_type": "code",
   "execution_count": 43,
   "metadata": {},
   "outputs": [],
   "source": [
    "import pandas as pd\n",
    "import matplotlib.pyplot as plt\n",
    "import seaborn as sns\n",
    "from sklearn.linear_model import LinearRegression\n",
    "from sklearn.ensemble import RandomForestRegressor\n",
    "from xgboost import XGBRegressor as xgbr\n",
    "\n",
    "import warnings\n",
    "warnings.filterwarnings('ignore')"
   ]
  },
  {
   "cell_type": "code",
   "execution_count": 17,
   "metadata": {},
   "outputs": [
    {
     "data": {
      "text/html": [
       "<div>\n",
       "<style scoped>\n",
       "    .dataframe tbody tr th:only-of-type {\n",
       "        vertical-align: middle;\n",
       "    }\n",
       "\n",
       "    .dataframe tbody tr th {\n",
       "        vertical-align: top;\n",
       "    }\n",
       "\n",
       "    .dataframe thead th {\n",
       "        text-align: right;\n",
       "    }\n",
       "</style>\n",
       "<table border=\"1\" class=\"dataframe\">\n",
       "  <thead>\n",
       "    <tr style=\"text-align: right;\">\n",
       "      <th></th>\n",
       "      <th>Price</th>\n",
       "      <th>Year</th>\n",
       "      <th>Mileage</th>\n",
       "      <th>City</th>\n",
       "      <th>State</th>\n",
       "      <th>Vin</th>\n",
       "      <th>Make</th>\n",
       "      <th>Model</th>\n",
       "    </tr>\n",
       "  </thead>\n",
       "  <tbody>\n",
       "    <tr>\n",
       "      <th>0</th>\n",
       "      <td>8995</td>\n",
       "      <td>2014</td>\n",
       "      <td>35725</td>\n",
       "      <td>El Paso</td>\n",
       "      <td>TX</td>\n",
       "      <td>19VDE2E53EE000083</td>\n",
       "      <td>Acura</td>\n",
       "      <td>ILX6-Speed</td>\n",
       "    </tr>\n",
       "    <tr>\n",
       "      <th>1</th>\n",
       "      <td>10888</td>\n",
       "      <td>2013</td>\n",
       "      <td>19606</td>\n",
       "      <td>Long Island City</td>\n",
       "      <td>NY</td>\n",
       "      <td>19VDE1F52DE012636</td>\n",
       "      <td>Acura</td>\n",
       "      <td>ILX5-Speed</td>\n",
       "    </tr>\n",
       "    <tr>\n",
       "      <th>2</th>\n",
       "      <td>8995</td>\n",
       "      <td>2013</td>\n",
       "      <td>48851</td>\n",
       "      <td>El Paso</td>\n",
       "      <td>TX</td>\n",
       "      <td>19VDE2E52DE000025</td>\n",
       "      <td>Acura</td>\n",
       "      <td>ILX6-Speed</td>\n",
       "    </tr>\n",
       "    <tr>\n",
       "      <th>3</th>\n",
       "      <td>10999</td>\n",
       "      <td>2014</td>\n",
       "      <td>39922</td>\n",
       "      <td>Windsor</td>\n",
       "      <td>CO</td>\n",
       "      <td>19VDE1F71EE003817</td>\n",
       "      <td>Acura</td>\n",
       "      <td>ILX5-Speed</td>\n",
       "    </tr>\n",
       "    <tr>\n",
       "      <th>4</th>\n",
       "      <td>14799</td>\n",
       "      <td>2016</td>\n",
       "      <td>22142</td>\n",
       "      <td>Lindon</td>\n",
       "      <td>UT</td>\n",
       "      <td>19UDE2F32GA001284</td>\n",
       "      <td>Acura</td>\n",
       "      <td>ILXAutomatic</td>\n",
       "    </tr>\n",
       "  </tbody>\n",
       "</table>\n",
       "</div>"
      ],
      "text/plain": [
       "   Price  Year  Mileage              City State                Vin   Make  \\\n",
       "0   8995  2014    35725           El Paso    TX  19VDE2E53EE000083  Acura   \n",
       "1  10888  2013    19606  Long Island City    NY  19VDE1F52DE012636  Acura   \n",
       "2   8995  2013    48851           El Paso    TX  19VDE2E52DE000025  Acura   \n",
       "3  10999  2014    39922           Windsor    CO  19VDE1F71EE003817  Acura   \n",
       "4  14799  2016    22142            Lindon    UT  19UDE2F32GA001284  Acura   \n",
       "\n",
       "          Model  \n",
       "0    ILX6-Speed  \n",
       "1    ILX5-Speed  \n",
       "2    ILX6-Speed  \n",
       "3    ILX5-Speed  \n",
       "4  ILXAutomatic  "
      ]
     },
     "execution_count": 17,
     "metadata": {},
     "output_type": "execute_result"
    }
   ],
   "source": [
    "data = pd.read_csv('true_car_listings.csv')\n",
    "data.head()"
   ]
  },
  {
   "cell_type": "markdown",
   "metadata": {},
   "source": [
    "## Exploratory Data Anslysis"
   ]
  },
  {
   "cell_type": "code",
   "execution_count": 18,
   "metadata": {},
   "outputs": [],
   "source": [
    "data = data.drop('Vin', axis= 1)"
   ]
  },
  {
   "cell_type": "code",
   "execution_count": 19,
   "metadata": {},
   "outputs": [
    {
     "data": {
      "text/html": [
       "<div>\n",
       "<style scoped>\n",
       "    .dataframe tbody tr th:only-of-type {\n",
       "        vertical-align: middle;\n",
       "    }\n",
       "\n",
       "    .dataframe tbody tr th {\n",
       "        vertical-align: top;\n",
       "    }\n",
       "\n",
       "    .dataframe thead th {\n",
       "        text-align: right;\n",
       "    }\n",
       "</style>\n",
       "<table border=\"1\" class=\"dataframe\">\n",
       "  <thead>\n",
       "    <tr style=\"text-align: right;\">\n",
       "      <th></th>\n",
       "      <th>Price</th>\n",
       "      <th>Year</th>\n",
       "      <th>Mileage</th>\n",
       "      <th>City</th>\n",
       "      <th>State</th>\n",
       "      <th>Make</th>\n",
       "      <th>Model</th>\n",
       "    </tr>\n",
       "  </thead>\n",
       "  <tbody>\n",
       "    <tr>\n",
       "      <th>0</th>\n",
       "      <td>8995</td>\n",
       "      <td>2014</td>\n",
       "      <td>35725</td>\n",
       "      <td>El Paso</td>\n",
       "      <td>TX</td>\n",
       "      <td>Acura</td>\n",
       "      <td>ILX6-Speed</td>\n",
       "    </tr>\n",
       "    <tr>\n",
       "      <th>1</th>\n",
       "      <td>10888</td>\n",
       "      <td>2013</td>\n",
       "      <td>19606</td>\n",
       "      <td>Long Island City</td>\n",
       "      <td>NY</td>\n",
       "      <td>Acura</td>\n",
       "      <td>ILX5-Speed</td>\n",
       "    </tr>\n",
       "    <tr>\n",
       "      <th>2</th>\n",
       "      <td>8995</td>\n",
       "      <td>2013</td>\n",
       "      <td>48851</td>\n",
       "      <td>El Paso</td>\n",
       "      <td>TX</td>\n",
       "      <td>Acura</td>\n",
       "      <td>ILX6-Speed</td>\n",
       "    </tr>\n",
       "    <tr>\n",
       "      <th>3</th>\n",
       "      <td>10999</td>\n",
       "      <td>2014</td>\n",
       "      <td>39922</td>\n",
       "      <td>Windsor</td>\n",
       "      <td>CO</td>\n",
       "      <td>Acura</td>\n",
       "      <td>ILX5-Speed</td>\n",
       "    </tr>\n",
       "    <tr>\n",
       "      <th>4</th>\n",
       "      <td>14799</td>\n",
       "      <td>2016</td>\n",
       "      <td>22142</td>\n",
       "      <td>Lindon</td>\n",
       "      <td>UT</td>\n",
       "      <td>Acura</td>\n",
       "      <td>ILXAutomatic</td>\n",
       "    </tr>\n",
       "  </tbody>\n",
       "</table>\n",
       "</div>"
      ],
      "text/plain": [
       "   Price  Year  Mileage              City State   Make         Model\n",
       "0   8995  2014    35725           El Paso    TX  Acura    ILX6-Speed\n",
       "1  10888  2013    19606  Long Island City    NY  Acura    ILX5-Speed\n",
       "2   8995  2013    48851           El Paso    TX  Acura    ILX6-Speed\n",
       "3  10999  2014    39922           Windsor    CO  Acura    ILX5-Speed\n",
       "4  14799  2016    22142            Lindon    UT  Acura  ILXAutomatic"
      ]
     },
     "execution_count": 19,
     "metadata": {},
     "output_type": "execute_result"
    }
   ],
   "source": [
    "data.head()"
   ]
  },
  {
   "cell_type": "code",
   "execution_count": 23,
   "metadata": {},
   "outputs": [
    {
     "data": {
      "text/plain": [
       "Price      0\n",
       "Year       0\n",
       "Mileage    0\n",
       "City       0\n",
       "State      0\n",
       "Make       0\n",
       "Model      0\n",
       "dtype: int64"
      ]
     },
     "execution_count": 23,
     "metadata": {},
     "output_type": "execute_result"
    }
   ],
   "source": [
    "data.isnull().sum()"
   ]
  },
  {
   "cell_type": "code",
   "execution_count": 34,
   "metadata": {},
   "outputs": [
    {
     "data": {
      "text/html": [
       "<div>\n",
       "<style scoped>\n",
       "    .dataframe tbody tr th:only-of-type {\n",
       "        vertical-align: middle;\n",
       "    }\n",
       "\n",
       "    .dataframe tbody tr th {\n",
       "        vertical-align: top;\n",
       "    }\n",
       "\n",
       "    .dataframe thead th {\n",
       "        text-align: right;\n",
       "    }\n",
       "</style>\n",
       "<table border=\"1\" class=\"dataframe\">\n",
       "  <thead>\n",
       "    <tr style=\"text-align: right;\">\n",
       "      <th></th>\n",
       "      <th>Price</th>\n",
       "      <th>Year</th>\n",
       "      <th>Mileage</th>\n",
       "    </tr>\n",
       "  </thead>\n",
       "  <tbody>\n",
       "    <tr>\n",
       "      <th>count</th>\n",
       "      <td>852122.0</td>\n",
       "      <td>852122.0</td>\n",
       "      <td>852122.0</td>\n",
       "    </tr>\n",
       "    <tr>\n",
       "      <th>mean</th>\n",
       "      <td>21464.0</td>\n",
       "      <td>2013.0</td>\n",
       "      <td>52508.0</td>\n",
       "    </tr>\n",
       "    <tr>\n",
       "      <th>std</th>\n",
       "      <td>13596.0</td>\n",
       "      <td>3.0</td>\n",
       "      <td>41989.0</td>\n",
       "    </tr>\n",
       "    <tr>\n",
       "      <th>min</th>\n",
       "      <td>1500.0</td>\n",
       "      <td>1997.0</td>\n",
       "      <td>5.0</td>\n",
       "    </tr>\n",
       "    <tr>\n",
       "      <th>25%</th>\n",
       "      <td>13000.0</td>\n",
       "      <td>2012.0</td>\n",
       "      <td>23836.0</td>\n",
       "    </tr>\n",
       "    <tr>\n",
       "      <th>50%</th>\n",
       "      <td>18500.0</td>\n",
       "      <td>2014.0</td>\n",
       "      <td>40256.0</td>\n",
       "    </tr>\n",
       "    <tr>\n",
       "      <th>75%</th>\n",
       "      <td>26995.0</td>\n",
       "      <td>2016.0</td>\n",
       "      <td>72186.0</td>\n",
       "    </tr>\n",
       "    <tr>\n",
       "      <th>max</th>\n",
       "      <td>499500.0</td>\n",
       "      <td>2018.0</td>\n",
       "      <td>2856196.0</td>\n",
       "    </tr>\n",
       "  </tbody>\n",
       "</table>\n",
       "</div>"
      ],
      "text/plain": [
       "          Price      Year    Mileage\n",
       "count  852122.0  852122.0   852122.0\n",
       "mean    21464.0    2013.0    52508.0\n",
       "std     13596.0       3.0    41989.0\n",
       "min      1500.0    1997.0        5.0\n",
       "25%     13000.0    2012.0    23836.0\n",
       "50%     18500.0    2014.0    40256.0\n",
       "75%     26995.0    2016.0    72186.0\n",
       "max    499500.0    2018.0  2856196.0"
      ]
     },
     "execution_count": 34,
     "metadata": {},
     "output_type": "execute_result"
    }
   ],
   "source": [
    "data.describe().round()"
   ]
  },
  {
   "cell_type": "code",
   "execution_count": 25,
   "metadata": {},
   "outputs": [
    {
     "name": "stdout",
     "output_type": "stream",
     "text": [
      "<class 'pandas.core.frame.DataFrame'>\n",
      "RangeIndex: 852122 entries, 0 to 852121\n",
      "Data columns (total 7 columns):\n",
      " #   Column   Non-Null Count   Dtype \n",
      "---  ------   --------------   ----- \n",
      " 0   Price    852122 non-null  int64 \n",
      " 1   Year     852122 non-null  int64 \n",
      " 2   Mileage  852122 non-null  int64 \n",
      " 3   City     852122 non-null  object\n",
      " 4   State    852122 non-null  object\n",
      " 5   Make     852122 non-null  object\n",
      " 6   Model    852122 non-null  object\n",
      "dtypes: int64(3), object(4)\n",
      "memory usage: 45.5+ MB\n"
     ]
    }
   ],
   "source": [
    "data.info()"
   ]
  },
  {
   "cell_type": "markdown",
   "metadata": {},
   "source": [
    "## Data Visualization"
   ]
  },
  {
   "cell_type": "code",
   "execution_count": 117,
   "metadata": {},
   "outputs": [
    {
     "ename": "AttributeError",
     "evalue": "'SeriesGroupBy' object has no attribute 'index'",
     "output_type": "error",
     "traceback": [
      "\u001b[1;31m---------------------------------------------------------------------------\u001b[0m",
      "\u001b[1;31mAttributeError\u001b[0m                            Traceback (most recent call last)",
      "\u001b[1;32mc:\\Users\\samsung\\Desktop\\DataScience\\Used Car Price Prediction\\Used-Car-Price-Prediction.ipynb Cell 12'\u001b[0m in \u001b[0;36m<cell line: 2>\u001b[1;34m()\u001b[0m\n\u001b[0;32m      <a href='vscode-notebook-cell:/c%3A/Users/samsung/Desktop/DataScience/Used%20Car%20Price%20Prediction/Used-Car-Price-Prediction.ipynb#ch0000015?line=0'>1</a>\u001b[0m year_price \u001b[39m=\u001b[39m data\u001b[39m.\u001b[39mgroupby(\u001b[39m'\u001b[39m\u001b[39mYear\u001b[39m\u001b[39m'\u001b[39m)[\u001b[39m'\u001b[39m\u001b[39mPrice\u001b[39m\u001b[39m'\u001b[39m]\n\u001b[1;32m----> <a href='vscode-notebook-cell:/c%3A/Users/samsung/Desktop/DataScience/Used%20Car%20Price%20Prediction/Used-Car-Price-Prediction.ipynb#ch0000015?line=1'>2</a>\u001b[0m year_price\u001b[39m.\u001b[39;49mindex\u001b[39m.\u001b[39munique()\n\u001b[0;32m      <a href='vscode-notebook-cell:/c%3A/Users/samsung/Desktop/DataScience/Used%20Car%20Price%20Prediction/Used-Car-Price-Prediction.ipynb#ch0000015?line=2'>3</a>\u001b[0m plt\u001b[39m.\u001b[39mscatter(year_price\u001b[39m.\u001b[39mindex, year_price\u001b[39m.\u001b[39mvalues)\n\u001b[0;32m      <a href='vscode-notebook-cell:/c%3A/Users/samsung/Desktop/DataScience/Used%20Car%20Price%20Prediction/Used-Car-Price-Prediction.ipynb#ch0000015?line=3'>4</a>\u001b[0m plt\u001b[39m.\u001b[39mshow()\n",
      "File \u001b[1;32m~\\AppData\\Local\\Programs\\Python\\Python310\\lib\\site-packages\\pandas\\core\\groupby\\groupby.py:904\u001b[0m, in \u001b[0;36mGroupBy.__getattr__\u001b[1;34m(self, attr)\u001b[0m\n\u001b[0;32m    <a href='file:///c%3A/Users/samsung/AppData/Local/Programs/Python/Python310/lib/site-packages/pandas/core/groupby/groupby.py?line=900'>901</a>\u001b[0m \u001b[39mif\u001b[39;00m attr \u001b[39min\u001b[39;00m \u001b[39mself\u001b[39m\u001b[39m.\u001b[39mobj:\n\u001b[0;32m    <a href='file:///c%3A/Users/samsung/AppData/Local/Programs/Python/Python310/lib/site-packages/pandas/core/groupby/groupby.py?line=901'>902</a>\u001b[0m     \u001b[39mreturn\u001b[39;00m \u001b[39mself\u001b[39m[attr]\n\u001b[1;32m--> <a href='file:///c%3A/Users/samsung/AppData/Local/Programs/Python/Python310/lib/site-packages/pandas/core/groupby/groupby.py?line=903'>904</a>\u001b[0m \u001b[39mraise\u001b[39;00m \u001b[39mAttributeError\u001b[39;00m(\n\u001b[0;32m    <a href='file:///c%3A/Users/samsung/AppData/Local/Programs/Python/Python310/lib/site-packages/pandas/core/groupby/groupby.py?line=904'>905</a>\u001b[0m     \u001b[39mf\u001b[39m\u001b[39m\"\u001b[39m\u001b[39m'\u001b[39m\u001b[39m{\u001b[39;00m\u001b[39mtype\u001b[39m(\u001b[39mself\u001b[39m)\u001b[39m.\u001b[39m\u001b[39m__name__\u001b[39m\u001b[39m}\u001b[39;00m\u001b[39m'\u001b[39m\u001b[39m object has no attribute \u001b[39m\u001b[39m'\u001b[39m\u001b[39m{\u001b[39;00mattr\u001b[39m}\u001b[39;00m\u001b[39m'\u001b[39m\u001b[39m\"\u001b[39m\n\u001b[0;32m    <a href='file:///c%3A/Users/samsung/AppData/Local/Programs/Python/Python310/lib/site-packages/pandas/core/groupby/groupby.py?line=905'>906</a>\u001b[0m )\n",
      "\u001b[1;31mAttributeError\u001b[0m: 'SeriesGroupBy' object has no attribute 'index'"
     ]
    }
   ],
   "source": [
    "year_price = data.groupby('Year')['Price'].mean()\n",
    "year_price.index.unique()\n",
    "plt.scatter(year_price.index, year_price.values)\n",
    "plt.show()"
   ]
  },
  {
   "cell_type": "code",
   "execution_count": 115,
   "metadata": {},
   "outputs": [
    {
     "data": {
      "image/png": "[encoded data removed]",
      "text/plain": [
       "<Figure size 432x288 with 1 Axes>"
      ]
     },
     "metadata": {
      "needs_background": "light"
     },
     "output_type": "display_data"
    }
   ],
   "source": [
    "city_price = data.groupby('City')['Price'].mean().sort_values()\n",
    "city_price.index.unique()\n",
    "plt.bar(city_price.index, city_price.values)\n",
    "plt.xticks('')\n",
    "plt.ylim([0,35000])\n",
    "plt.show()"
   ]
  }
 ],
 "metadata": {
  "interpreter": {
   "hash": "09b25c1277af6cbaadea7e567f3002bf19747c2245975db34db00b5cd5ef25e8"
  },
  "kernelspec": {
   "display_name": "Python 3.10.3 64-bit",
   "language": "python",
   "name": "python3"
  },
  "language_info": {
   "codemirror_mode": {
    "name": "ipython",
    "version": 3
   },
   "file_extension": ".py",
   "mimetype": "text/x-python",
   "name": "python",
   "nbconvert_exporter": "python",
   "pygments_lexer": "ipython3",
   "version": "3.10.3"
  },
  "orig_nbformat": 4
 },
 "nbformat": 4,
 "nbformat_minor": 2
}
